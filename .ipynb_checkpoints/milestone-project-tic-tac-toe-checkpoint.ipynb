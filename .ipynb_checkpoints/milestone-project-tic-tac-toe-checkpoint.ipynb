{
 "cells": [
  {
   "cell_type": "markdown",
   "id": "28bde598-cfe0-4deb-aaf5-29ae6b6aca17",
   "metadata": {},
   "source": [
    "<h1>Milestone Project 1</h1>\n",
    "<li>You now know enough to create a real program!</li>\n",
    "<li>For your first milestone project you will create a Tic Tac Toe game for 2 human players</li>\n",
    "<li>2 players should be able to play the game (both sitting at the same computer)</li>\n",
    "<li>The board should be printed out every time a player makes a move</li>\n",
    "<li>You should be able to accept input of the player position and then place a symbol on the board</li>\n",
    "<li>We will use the \"numpad\" to match numbers to the grid on tic tac toe board</li>\n",
    "<li>Creating your first full program is always a big leap, but you will come out the other end a much better programmer</li>\n",
    "<li>We've set up a walkthrough notebook for you to help guide you along with the functions you will need to create</li>"
   ]
  },
  {
   "cell_type": "markdown",
   "id": "71f26af9-8403-4de7-a821-56d3bf5ab768",
   "metadata": {},
   "source": [
    "<h2>Step 1:</h2>\n",
    "Write a function that can print out a board. Set up your board as a list, where each index 1-9 corresponds with a number on a number pad, so you get a 3 by 3 board representation"
   ]
  },
  {
   "cell_type": "code",
   "execution_count": 51,
   "id": "3c2afd4e-e3e6-47b5-af0b-dd24604b0e50",
   "metadata": {},
   "outputs": [],
   "source": [
    "from IPython.display import clear_output\n",
    "\n",
    "def display_board(board):\n",
    "    clear_output()\n",
    "    \n",
    "    print(board[7] + '|' + board[8] + '|' + board[9])\n",
    "    print('-----')\n",
    "    print(board[4] + '|' + board[5] + '|' + board[6])\n",
    "    print('-----')\n",
    "    print(board[1] + '|' + board[2] + '|' + board[3])"
   ]
  },
  {
   "cell_type": "code",
   "execution_count": 52,
   "id": "bfeb6c2c-8138-4282-b488-8d9ed1706c33",
   "metadata": {},
   "outputs": [
    {
     "name": "stdout",
     "output_type": "stream",
     "text": [
      " | | \n",
      "-----\n",
      " | | \n",
      "-----\n",
      " | | \n"
     ]
    }
   ],
   "source": [
    "test_board = [' ']*10\n",
    "#test_board = ['#', 'X', 'X', 'X', 'O', 'O', 'X', 'X', 'O', 'O']\n",
    "display_board(test_board)"
   ]
  },
  {
   "cell_type": "markdown",
   "id": "f622e032-7f59-4338-96d3-fbfafdd7e98b",
   "metadata": {},
   "source": [
    "<h2>Step 2:</h2>\n",
    "Write a function that can take in a player input and assign their marker as 'X' or 'O'. Think about using while loops to continually ask until you get a correct answer"
   ]
  },
  {
   "cell_type": "code",
   "execution_count": 53,
   "id": "c27345d8-8cf6-4a22-9381-576dfcaff1ad",
   "metadata": {},
   "outputs": [],
   "source": [
    "def player_input():\n",
    "    marker = ''\n",
    "\n",
    "    # Keep asking player 1 to choose X or O\n",
    "    while not (marker == 'X' or marker == 'O'):\n",
    "        marker = input('Player 1, choose X or O: ').upper()\n",
    "    \n",
    "    # Assign player 2 the opposite marker\n",
    "    if marker == 'X':\n",
    "        return ('X', 'O')\n",
    "    else:\n",
    "        return ('O', 'X')"
   ]
  },
  {
   "cell_type": "code",
   "execution_count": 54,
   "id": "0812b681-8f9d-4d42-a1c8-ee16f9814753",
   "metadata": {},
   "outputs": [
    {
     "name": "stdin",
     "output_type": "stream",
     "text": [
      "Player 1, choose X or O:  x\n"
     ]
    }
   ],
   "source": [
    "player1_marker, player2_marker = player_input()"
   ]
  },
  {
   "cell_type": "code",
   "execution_count": 55,
   "id": "02fd5fce-2a04-441f-b0f6-c3b68bf1e08d",
   "metadata": {},
   "outputs": [
    {
     "data": {
      "text/plain": [
       "'O'"
      ]
     },
     "execution_count": 55,
     "metadata": {},
     "output_type": "execute_result"
    }
   ],
   "source": [
    "player2_marker"
   ]
  },
  {
   "cell_type": "markdown",
   "id": "31f47cd6-6f6d-40c2-8a94-228c69acf42a",
   "metadata": {},
   "source": [
    "<h2>Step 3:</h2>\n",
    "Write a function that takes in the board list object, a marker ('X' or 'O'), and a desired position (number 1-9) and assigns it to the board"
   ]
  },
  {
   "cell_type": "code",
   "execution_count": 56,
   "id": "72f9237c-4770-413b-8696-51803bc624cf",
   "metadata": {},
   "outputs": [],
   "source": [
    "def place_marker(board, marker, position):\n",
    "    board[position] = marker"
   ]
  },
  {
   "cell_type": "code",
   "execution_count": 57,
   "id": "92a1ff23-b835-4c0b-bdf0-418e957ad0c5",
   "metadata": {},
   "outputs": [
    {
     "name": "stdout",
     "output_type": "stream",
     "text": [
      " |$| \n",
      "-----\n",
      " | | \n",
      "-----\n",
      " | | \n"
     ]
    }
   ],
   "source": [
    "place_marker(test_board, '$', 8)\n",
    "display_board(test_board)"
   ]
  },
  {
   "cell_type": "markdown",
   "id": "a401255c-b3de-4b4b-8d2e-404ef6d9098b",
   "metadata": {},
   "source": [
    "<h2>Step 4:</h2>\n",
    "Write a function that takes in a board and mark (X or O) and then checks to see if the mark has won"
   ]
  },
  {
   "cell_type": "code",
   "execution_count": 58,
   "id": "e4d0f869-b223-4191-8747-4aa0f8782b1d",
   "metadata": {},
   "outputs": [],
   "source": [
    "def win_check(board, mark):\n",
    "    # win tic tac toe?\n",
    "    # All Rows, and check to see if they all share the same marker?\n",
    "    return ((board[1] == board[2] == board[3] == mark) or\n",
    "    (board[4] == board[5] == board[6] == mark) or\n",
    "    (board[7] == board[8] == board[9] == mark) or\n",
    "    # All columns, check to see if marker matches\n",
    "    (board[1] == board[4] == board[7] == mark) or\n",
    "    (board[2] == board[5] == board[8] == mark) or\n",
    "    (board[3] == board[6] == board[9] == mark) or\n",
    "    # 2 diagonals, check to see match\n",
    "    (board[1] == board[5] == board[9] == mark) or\n",
    "    (board[3] == board[5] == board[7] == mark))"
   ]
  },
  {
   "cell_type": "code",
   "execution_count": 59,
   "id": "4e2e21c5-ed09-4318-aeb6-f3445827b247",
   "metadata": {},
   "outputs": [
    {
     "data": {
      "text/plain": [
       "False"
      ]
     },
     "execution_count": 59,
     "metadata": {},
     "output_type": "execute_result"
    }
   ],
   "source": [
    "win_check(test_board, 'X')"
   ]
  },
  {
   "cell_type": "markdown",
   "id": "12e6263a-647a-4b94-a0b1-a0e4c04e181d",
   "metadata": {},
   "source": [
    "<h2>Step 5:</h2>\n",
    "Write a function that uses the random module to randomly decide wich player goes first. You may want lookup random.randint() Return a string of which player went first"
   ]
  },
  {
   "cell_type": "code",
   "execution_count": 60,
   "id": "9270a619-d6bc-448f-bb69-e6e311dccc3e",
   "metadata": {},
   "outputs": [],
   "source": [
    "import random\n",
    "\n",
    "def choose_first():\n",
    "    flip = random.randint(0,1)\n",
    "    if flip == 0:\n",
    "        return 'Player 1'\n",
    "    else:\n",
    "        return 'Player 2'"
   ]
  },
  {
   "cell_type": "markdown",
   "id": "859e24f0-d983-4faa-9daa-ddcc0dc96997",
   "metadata": {},
   "source": [
    "<h2>Step 6:</h2>\n",
    "Write a function that return a boolean indicating whether a space on the board is freely available"
   ]
  },
  {
   "cell_type": "code",
   "execution_count": 61,
   "id": "01c87fd0-7f7c-4182-9098-23d609b416fe",
   "metadata": {},
   "outputs": [],
   "source": [
    "def space_check(board, position):\n",
    "    return board[position] == ' '"
   ]
  },
  {
   "cell_type": "markdown",
   "id": "af53f5d2-33ee-4d6e-9d3c-05ea14e19cab",
   "metadata": {},
   "source": [
    "<h2>Step 7:</h2>\n",
    "Write a function that checks if the board is full and returns a boolean value. True if full, False otherwise"
   ]
  },
  {
   "cell_type": "code",
   "execution_count": 62,
   "id": "4f904f8f-0b1a-4b7c-99e0-1186d47f14f8",
   "metadata": {},
   "outputs": [],
   "source": [
    "def full_board_check(board):\n",
    "    for i in range(1,10):\n",
    "        if space_check(board, i):\n",
    "            return False\n",
    "    \n",
    "    # Board is full is we return True\n",
    "    return True"
   ]
  },
  {
   "cell_type": "markdown",
   "id": "0779d0e1-26d8-4c29-923a-b0755acb691b",
   "metadata": {},
   "source": [
    "<h2>Step 8:</h2>\n",
    "Write a function that asks for a player's next position (as a number 1-9) and then use the function from step 6 to check if it's a free position. If it ism then return the position for later use"
   ]
  },
  {
   "cell_type": "code",
   "execution_count": 63,
   "id": "45f9c85b-2290-464d-8502-18860b8df265",
   "metadata": {},
   "outputs": [],
   "source": [
    "def player_choice(board):\n",
    "    position = 0\n",
    "\n",
    "    while position not in [1,2,3,4,5,6,7,8,9] or not space_check(board, position):\n",
    "        position = int(input('Choose a position (1-9): '))\n",
    "\n",
    "    return position"
   ]
  },
  {
   "cell_type": "markdown",
   "id": "2796a3ee-ae47-47ef-b7a1-2c0987981bab",
   "metadata": {},
   "source": [
    "<h2>Step 9:</h2>\n",
    "Write a function that asks the player if they want to play again and returns a boolean True if they do want to play again"
   ]
  },
  {
   "cell_type": "code",
   "execution_count": 64,
   "id": "26374c2a-1fb3-48da-8965-298f0ea2f569",
   "metadata": {},
   "outputs": [],
   "source": [
    "def replay():\n",
    "    choice = input(\"Play again? Enter 'Yes' or 'No' \")\n",
    "\n",
    "    return choice == 'Yes'"
   ]
  },
  {
   "cell_type": "markdown",
   "id": "ab77a59e-8d01-4908-af7f-b74f3288d3cf",
   "metadata": {},
   "source": [
    "<h2>Step 10:</h2>\n",
    "Here comes the hard part! Use while loops and the functions you've made to run the game!"
   ]
  },
  {
   "cell_type": "code",
   "execution_count": 67,
   "id": "a1ccbc34-2e28-4d5b-943b-d816cdf5da1d",
   "metadata": {},
   "outputs": [
    {
     "name": "stdout",
     "output_type": "stream",
     "text": [
      " | |O\n",
      "-----\n",
      " |O| \n",
      "-----\n",
      "X| |X\n"
     ]
    },
    {
     "ename": "KeyboardInterrupt",
     "evalue": "Interrupted by user",
     "output_type": "error",
     "traceback": [
      "\u001b[1;31m---------------------------------------------------------------------------\u001b[0m",
      "\u001b[1;31mKeyboardInterrupt\u001b[0m                         Traceback (most recent call last)",
      "Cell \u001b[1;32mIn[67], line 27\u001b[0m\n\u001b[0;32m     25\u001b[0m display_board(the_board)\n\u001b[0;32m     26\u001b[0m \u001b[38;5;66;03m# Choose a position\u001b[39;00m\n\u001b[1;32m---> 27\u001b[0m position \u001b[38;5;241m=\u001b[39m player_choice(the_board)\n\u001b[0;32m     28\u001b[0m \u001b[38;5;66;03m# Place the marker on the position\u001b[39;00m\n\u001b[0;32m     29\u001b[0m place_marker(the_board, player1_marker, position)\n",
      "Cell \u001b[1;32mIn[63], line 5\u001b[0m, in \u001b[0;36mplayer_choice\u001b[1;34m(board)\u001b[0m\n\u001b[0;32m      2\u001b[0m position \u001b[38;5;241m=\u001b[39m \u001b[38;5;241m0\u001b[39m\n\u001b[0;32m      4\u001b[0m \u001b[38;5;28;01mwhile\u001b[39;00m position \u001b[38;5;129;01mnot\u001b[39;00m \u001b[38;5;129;01min\u001b[39;00m [\u001b[38;5;241m1\u001b[39m,\u001b[38;5;241m2\u001b[39m,\u001b[38;5;241m3\u001b[39m,\u001b[38;5;241m4\u001b[39m,\u001b[38;5;241m5\u001b[39m,\u001b[38;5;241m6\u001b[39m,\u001b[38;5;241m7\u001b[39m,\u001b[38;5;241m8\u001b[39m,\u001b[38;5;241m9\u001b[39m] \u001b[38;5;129;01mor\u001b[39;00m \u001b[38;5;129;01mnot\u001b[39;00m space_check(board, position):\n\u001b[1;32m----> 5\u001b[0m     position \u001b[38;5;241m=\u001b[39m \u001b[38;5;28mint\u001b[39m(\u001b[38;5;28minput\u001b[39m(\u001b[38;5;124m'\u001b[39m\u001b[38;5;124mChoose a position (1-9): \u001b[39m\u001b[38;5;124m'\u001b[39m))\n\u001b[0;32m      7\u001b[0m \u001b[38;5;28;01mreturn\u001b[39;00m position\n",
      "File \u001b[1;32m~\\AppData\\Local\\anaconda3\\Lib\\site-packages\\ipykernel\\kernelbase.py:1262\u001b[0m, in \u001b[0;36mKernel.raw_input\u001b[1;34m(self, prompt)\u001b[0m\n\u001b[0;32m   1260\u001b[0m     msg \u001b[38;5;241m=\u001b[39m \u001b[38;5;124m\"\u001b[39m\u001b[38;5;124mraw_input was called, but this frontend does not support input requests.\u001b[39m\u001b[38;5;124m\"\u001b[39m\n\u001b[0;32m   1261\u001b[0m     \u001b[38;5;28;01mraise\u001b[39;00m StdinNotImplementedError(msg)\n\u001b[1;32m-> 1262\u001b[0m \u001b[38;5;28;01mreturn\u001b[39;00m \u001b[38;5;28mself\u001b[39m\u001b[38;5;241m.\u001b[39m_input_request(\n\u001b[0;32m   1263\u001b[0m     \u001b[38;5;28mstr\u001b[39m(prompt),\n\u001b[0;32m   1264\u001b[0m     \u001b[38;5;28mself\u001b[39m\u001b[38;5;241m.\u001b[39m_parent_ident[\u001b[38;5;124m\"\u001b[39m\u001b[38;5;124mshell\u001b[39m\u001b[38;5;124m\"\u001b[39m],\n\u001b[0;32m   1265\u001b[0m     \u001b[38;5;28mself\u001b[39m\u001b[38;5;241m.\u001b[39mget_parent(\u001b[38;5;124m\"\u001b[39m\u001b[38;5;124mshell\u001b[39m\u001b[38;5;124m\"\u001b[39m),\n\u001b[0;32m   1266\u001b[0m     password\u001b[38;5;241m=\u001b[39m\u001b[38;5;28;01mFalse\u001b[39;00m,\n\u001b[0;32m   1267\u001b[0m )\n",
      "File \u001b[1;32m~\\AppData\\Local\\anaconda3\\Lib\\site-packages\\ipykernel\\kernelbase.py:1305\u001b[0m, in \u001b[0;36mKernel._input_request\u001b[1;34m(self, prompt, ident, parent, password)\u001b[0m\n\u001b[0;32m   1302\u001b[0m \u001b[38;5;28;01mexcept\u001b[39;00m \u001b[38;5;167;01mKeyboardInterrupt\u001b[39;00m:\n\u001b[0;32m   1303\u001b[0m     \u001b[38;5;66;03m# re-raise KeyboardInterrupt, to truncate traceback\u001b[39;00m\n\u001b[0;32m   1304\u001b[0m     msg \u001b[38;5;241m=\u001b[39m \u001b[38;5;124m\"\u001b[39m\u001b[38;5;124mInterrupted by user\u001b[39m\u001b[38;5;124m\"\u001b[39m\n\u001b[1;32m-> 1305\u001b[0m     \u001b[38;5;28;01mraise\u001b[39;00m \u001b[38;5;167;01mKeyboardInterrupt\u001b[39;00m(msg) \u001b[38;5;28;01mfrom\u001b[39;00m \u001b[38;5;28;01mNone\u001b[39;00m\n\u001b[0;32m   1306\u001b[0m \u001b[38;5;28;01mexcept\u001b[39;00m \u001b[38;5;167;01mException\u001b[39;00m:\n\u001b[0;32m   1307\u001b[0m     \u001b[38;5;28mself\u001b[39m\u001b[38;5;241m.\u001b[39mlog\u001b[38;5;241m.\u001b[39mwarning(\u001b[38;5;124m\"\u001b[39m\u001b[38;5;124mInvalid Message:\u001b[39m\u001b[38;5;124m\"\u001b[39m, exc_info\u001b[38;5;241m=\u001b[39m\u001b[38;5;28;01mTrue\u001b[39;00m)\n",
      "\u001b[1;31mKeyboardInterrupt\u001b[0m: Interrupted by user"
     ]
    }
   ],
   "source": [
    "print('Welcome to Tic Tac Toe! XOXOXO')\n",
    "\n",
    "# While loop to keep running the game\n",
    "while True:\n",
    "    # Play the game\n",
    "\n",
    "    # Set everything up (board, who's first, choose markers x,o)\n",
    "    the_board = [' ']*10\n",
    "    player1_marker, player2_marker = player_input()\n",
    "\n",
    "    turn = choose_first()\n",
    "    print(f'{turn} will go first')\n",
    "\n",
    "    play_game = input('Ready to play? y or n? ')\n",
    "    if play_game == 'y':\n",
    "        game_on = True\n",
    "    else:\n",
    "        game_on = False\n",
    "\n",
    "    # Game play\n",
    "    while game_on:\n",
    "        if turn == 'Player 1':\n",
    "            # Player 1 turn\n",
    "            # Show the board\n",
    "            display_board(the_board)\n",
    "            # Choose a position\n",
    "            position = player_choice(the_board)\n",
    "            # Place the marker on the position\n",
    "            place_marker(the_board, player1_marker, position)\n",
    "            \n",
    "            # Check if they won\n",
    "            if win_check(the_board, player1_marker):\n",
    "                display_board(the_board)\n",
    "                print('Player 1 has won!!')\n",
    "                game_on = False\n",
    "            else:\n",
    "                # Or check if there is a tie\n",
    "                if full_board_check(the_board):\n",
    "                    display_board(the_board)\n",
    "                    print(\"Tie game!!\")\n",
    "                    game_on = False\n",
    "                # No tie and no win? Then next player's turn\n",
    "                else:\n",
    "                    turn = 'Player 2'\n",
    "\n",
    "        else:\n",
    "            # Player 2 turn\n",
    "            # Show the board\n",
    "            display_board(the_board)\n",
    "            # Choose a position\n",
    "            position = player_choice(the_board)\n",
    "            # Place the marker on the position\n",
    "            place_marker(the_board, player2_marker, position)\n",
    "            \n",
    "            # Check if they won\n",
    "            if win_check(the_board, player2_marker):\n",
    "                display_board(the_board)\n",
    "                print('Player 2 has won!!')\n",
    "                game_on = False\n",
    "            else:\n",
    "                # Or check if there is a tie\n",
    "                if full_board_check(the_board):\n",
    "                    display_board(the_board)\n",
    "                    print(\"Tie game!!\")\n",
    "                    game_on = False\n",
    "                # No tie and no win? Then next player's turn\n",
    "                else:\n",
    "                    turn = 'Player 1'\n",
    "    \n",
    "    if not replay():\n",
    "        break\n",
    "\n",
    "# Break out of the while loop on replay()"
   ]
  },
  {
   "cell_type": "code",
   "execution_count": null,
   "id": "14e32730-5146-42d6-a716-2988eca50479",
   "metadata": {},
   "outputs": [],
   "source": []
  }
 ],
 "metadata": {
  "kernelspec": {
   "display_name": "Python 3 (ipykernel)",
   "language": "python",
   "name": "python3"
  },
  "language_info": {
   "codemirror_mode": {
    "name": "ipython",
    "version": 3
   },
   "file_extension": ".py",
   "mimetype": "text/x-python",
   "name": "python",
   "nbconvert_exporter": "python",
   "pygments_lexer": "ipython3",
   "version": "3.11.7"
  }
 },
 "nbformat": 4,
 "nbformat_minor": 5
}
